{
 "cells": [
  {
   "cell_type": "code",
   "execution_count": 1,
   "id": "956d9b78-f11f-468b-bc84-5a2a141c5591",
   "metadata": {},
   "outputs": [
    {
     "name": "stdin",
     "output_type": "stream",
     "text": [
      "Enter your choice : Type 0 for Rock , 1 for Paper , 2 for Scissors : 2\n"
     ]
    },
    {
     "name": "stdout",
     "output_type": "stream",
     "text": [
      "computer chose :\n",
      "computer choice :\n",
      "you lose \n"
     ]
    }
   ],
   "source": [
    "# project 1\n",
    "# Rock , paper , Scissors games :\n",
    "import random\n",
    "user_choice = int(input(\"Enter your choice : Type 0 for Rock , 1 for Paper , 2 for Scissors :\"))\n",
    "computer_choice = random.randint(0,2)\n",
    "print(\"computer chose :\")\n",
    "print(\"computer choice :\")\n",
    "if computer_choice == user_choice :\n",
    "    print(\"it s a draw \")\n",
    "elif computer_choice == 0 and user_choice == 2 :\n",
    "    print(\"you lose \")\n",
    "elif user_choice == 0 and computer_choice == 2 :\n",
    "    print(\"You win\")\n",
    "elif computer_choice > user_choice : # 2 > 0\n",
    "    print(\"you lose \")    \n",
    "elif user_choice > computer_choice : # 2 > 0\n",
    "    print(\" you win \")\n",
    "\n",
    "                        "
   ]
  },
  {
   "cell_type": "code",
   "execution_count": 6,
   "id": "5c9092f9-875f-40ea-a821-174b6ddf8201",
   "metadata": {},
   "outputs": [
    {
     "name": "stdout",
     "output_type": "stream",
     "text": [
      "Welcome to password Generator :\n"
     ]
    },
    {
     "name": "stdin",
     "output_type": "stream",
     "text": [
      "Enter how many letters in your password ?\n",
      " 2\n",
      "Enter how many numbers in your password ?\n",
      " 3\n",
      "Enter how many symbols in your password ?\n",
      " 1\n"
     ]
    },
    {
     "name": "stdout",
     "output_type": "stream",
     "text": [
      "['l', 'o', '2', '9', '@', '&']\n",
      "['9', 'o', '&', '@', '2', 'l']\n",
      " &&&&&&\n"
     ]
    }
   ],
   "source": [
    "# project 2\n",
    "# password Generator :\n",
    "import random\n",
    "letters = ['a', 'b', 'c', 'd', 'e', 'f', 'g', 'h', 'i', 'j', 'k', 'l', 'm', 'n', 'o', 'p', 'q', 'r', 's', 't', 'u', 'v', 'w', 'x', 'y', 'z']\n",
    "numbers = ['0', '1' , '2','3','4','5','6','7','8','9']\n",
    "symbols = ['!','@','#','%','$','^','&','*']\n",
    "print(\"Welcome to password Generator :\")\n",
    "n_letters = int(input(\"Enter how many letters in your password ?\\n\"))\n",
    "n_numbers = int(input(\"Enter how many numbers in your password ?\\n\"))\n",
    "n_symbols = int(input(\"Enter how many symbols in your password ?\\n\"))\n",
    "password_list = []\n",
    "for i in range(1,n_letters+1):\n",
    "    char = random.choice(letters)\n",
    "    password_list += char\n",
    "for i in range(1,n_letters+1):\n",
    "    char = random.choice(numbers)\n",
    "    password_list += char\n",
    "for i in range(1,n_letters+1):\n",
    "    char = random.choice(symbols)\n",
    "    password_list += char\n",
    "print(password_list)\n",
    "random.shuffle(password_list)\n",
    "print(password_list)\n",
    "password = \" \"\n",
    "for i in password_list :\n",
    "    password += char\n",
    "print(password)\n"
   ]
  },
  {
   "cell_type": "code",
   "execution_count": null,
   "id": "afbfaf1b-5f7e-4742-993b-c1030ee3a628",
   "metadata": {},
   "outputs": [],
   "source": []
  },
  {
   "cell_type": "code",
   "execution_count": null,
   "id": "4f0d961b-f7a7-43d4-bbb0-b779c0b71500",
   "metadata": {},
   "outputs": [],
   "source": [
    "# project 3\n",
    "# Guess the word: :\n",
    "import random\n",
    "word_list = [\"apple\", \"vijay\", \"intro\",\"Queen\"]\n",
    "lifes = 6\n",
    "chosen_word = random.choice(word_list)\n",
    "print(chosen_word)\n",
    "display = []\n",
    "for i in range(len(chosen_word)): # 0 1 2 3 4 5 \n",
    "    display += '_'\n",
    "print(display)\n",
    "game_over = False\n",
    "while not game_over:\n",
    "    guessed_letter = input(\"Guessed a letter :\").lower()\n",
    "    for position in range(len(chosen_word)): # 0 1 2 3 4 \n",
    "        letter = chosen_word[position]\n",
    "        if letter == guessed_letter:\n",
    "            display[position] = guessed_letter\n",
    "    print(display)\n",
    "if guessed_letter not in chosen_word:\n",
    "    lifes -= 1 # 5 4 3 2 1  0\n",
    "    if lifes == 0:\n",
    "        game_over = True\n",
    "        print(\"game_over\")\n",
    "        print(\"You lose!!\")\n",
    "\n",
    "if '_' not in display:\n",
    "    game_over = True\n",
    "    print(\"You win!\")"
   ]
  },
  {
   "cell_type": "code",
   "execution_count": 28,
   "id": "0e553eec-8ade-4234-961c-cdae9e2dd99c",
   "metadata": {},
   "outputs": [
    {
     "name": "stdin",
     "output_type": "stream",
     "text": [
      "Type 'encrypt' for encryption , Type 'decrypt' for decryption :\n",
      " encrypt\n",
      "type for messsage :\n",
      " vijay\n",
      "Enter shift key :\n",
      " 5\n"
     ]
    },
    {
     "name": "stdout",
     "output_type": "stream",
     "text": [
      "Here's is the text after encryption :  anofd\n"
     ]
    },
    {
     "name": "stdin",
     "output_type": "stream",
     "text": [
      "Type 'yes' to continue , Type 'no' to exit .\n",
      " no\n"
     ]
    },
    {
     "name": "stdout",
     "output_type": "stream",
     "text": [
      "Have a nice day! Goodbye \n"
     ]
    }
   ],
   "source": [
    "#project 4 : CIPHER SESSIOR \n",
    "\n",
    "alphabet= ['a', 'b', 'c', 'd', 'e', 'f', 'g', 'h', 'i', 'j', 'k', 'l', 'm', 'n', 'o', 'p', 'q', 'r', 's', 't', 'u', 'v', 'w', 'x', 'y', 'z']\n",
    "\n",
    "def encryption (plain_text,shift_key ) :\n",
    "    cipher_text = \" \"\n",
    "    for char in plain_text :\n",
    "        if char in alphabet :\n",
    "            position = alphabet.index(char)\n",
    "            new_position = (position+shift_key)%26\n",
    "            cipher_text += alphabet[new_position]\n",
    "        else :\n",
    "            cipher_text += char\n",
    "    print(f\"Here's is the text after encryption : {cipher_text}\")\n",
    "\n",
    "def decryption (cipher_text,shift_key ) :\n",
    "    plain_text = \" \"\n",
    "    for char in cipher_text :\n",
    "        if char in alphabet :\n",
    "            position = alphabet.index(char)\n",
    "            new_position = (position-shift_key)%26\n",
    "            plain_text += alphabet[new_position]\n",
    "\n",
    "        else :\n",
    "            cipher_text += char\n",
    "    print(f\"Here's is the text after decryption : {plain_text}\")\n",
    "wanna_end =False\n",
    "while not wanna_end :\n",
    "    what_to_do = input(\"Type 'encrypt' for encryption , Type 'decrypt' for decryption :\\n\")\n",
    "    text = input(\"type for messsage :\\n\")\n",
    "    shift = int(input(\"Enter shift key :\\n\"))\n",
    "    if what_to_do == \"encrypt\":\n",
    "        encryption(plain_text=text,shift_key=shift)\n",
    "    elif what_to_do == \"decrypt\" :\n",
    "        decryption(cipher_text = text,shift_key=shift)\n",
    "    play_again = input(\"Type 'yes' to continue , Type 'no' to exit .\\n\")\n",
    "    if play_again == \"no\":\n",
    "        wanna_end =True\n",
    "        print(\"Have a nice day! Goodbye \")\n"
   ]
  },
  {
   "cell_type": "code",
   "execution_count": 27,
   "id": "f9a226a0-c588-487b-8310-53bbc1fb695e",
   "metadata": {},
   "outputs": [
    {
     "name": "stdin",
     "output_type": "stream",
     "text": [
      "Enter your name? J\n",
      "Enter your bid? 45\n",
      "Are they more bidders? Type 'yes' or 'no' : NO\n"
     ]
    },
    {
     "name": "stdout",
     "output_type": "stream",
     "text": [
      "the winner is J with a bid of 45\n"
     ]
    }
   ],
   "source": [
    "###project 5 : SILENCE AUCTION\n",
    "\n",
    "def find_winner(bidder_details):\n",
    "    highest_bid = 0\n",
    "    winner = \"\"\n",
    "    for bidder in bidder_details:\n",
    "        bidding_price = bidder_details[bidder]\n",
    "        if bidding_price >highest_bid :\n",
    "            highest_bid = bidding_price\n",
    "            winner = bidder\n",
    "    print(f\"the winner is {winner} with a bid of {highest_bid}\")\n",
    "bidder_data = {}\n",
    "end_of_bidding = False\n",
    "while not end_of_bidding:\n",
    "    name = input(\"Enter your name?\")\n",
    "    price = int(input(\"Enter your bid?\"))\n",
    "    bidder_data[name] = price\n",
    "    more_bidders = input(\"Are they more bidders? Type 'yes' or 'no' :\").lower()\n",
    "    if more_bidders == 'no':\n",
    "        end_of_bidding = True\n",
    "        find_winner(bidder_data)\n",
    "    elif more_bidders == 'yes':\n",
    "        print(\"Thank you for bidding\")\n"
   ]
  },
  {
   "cell_type": "code",
   "execution_count": 1,
   "id": "ec233a7f-e28d-47fb-949c-b4bdc64d2440",
   "metadata": {},
   "outputs": [
    {
     "name": "stdin",
     "output_type": "stream",
     "text": [
      "Enter first number : 554\n",
      "Enter operator : -\n",
      "Enter second number : 6\n"
     ]
    },
    {
     "name": "stdout",
     "output_type": "stream",
     "text": [
      "548.0\n"
     ]
    }
   ],
   "source": [
    "## project 6:SIMPLE CALCULATOR\n",
    "\n",
    "num1 = float(input(\"Enter first number :\"))\n",
    "op = input(\"Enter operator :\")\n",
    "num2 = float(input(\"Enter second number :\"))\n",
    "if op == \"+\":\n",
    "    print(num1 + num2)\n",
    "elif op == \"-\" :\n",
    "    print(num1 - num2)\n",
    "elif op == \"*\" :\n",
    "    print(num1 * num2)\n",
    "elif op == \"/\" :\n",
    "    print(num1 / num2)\n",
    "else :\n",
    "    print(\"invalid operator :\")\n"
   ]
  },
  {
   "cell_type": "code",
   "execution_count": 4,
   "id": "5ed9e87a-07a7-4348-b451-12e81522efc1",
   "metadata": {},
   "outputs": [
    {
     "name": "stdout",
     "output_type": "stream",
     "text": [
      "let me think of a number between 1 to 25.\n",
      "5\n"
     ]
    },
    {
     "name": "stdin",
     "output_type": "stream",
     "text": [
      "chosen level of difficulty ... Type 'easy' or 'hard': easy\n"
     ]
    },
    {
     "name": "stdout",
     "output_type": "stream",
     "text": [
      "you have 10 attempts remaining to guess the number:\n"
     ]
    },
    {
     "name": "stdin",
     "output_type": "stream",
     "text": [
      "guess a number : 6\n"
     ]
    },
    {
     "name": "stdout",
     "output_type": "stream",
     "text": [
      "guess again\n",
      "you have 10 attempts remaining to guess the number:\n"
     ]
    },
    {
     "name": "stdin",
     "output_type": "stream",
     "text": [
      "guess a number : 9\n"
     ]
    },
    {
     "name": "stdout",
     "output_type": "stream",
     "text": [
      "guess again\n",
      "you have 10 attempts remaining to guess the number:\n"
     ]
    },
    {
     "name": "stdin",
     "output_type": "stream",
     "text": [
      "guess a number : 5\n"
     ]
    },
    {
     "name": "stdout",
     "output_type": "stream",
     "text": [
      "your guess is correct :\n"
     ]
    }
   ],
   "source": [
    "import random\n",
    "\n",
    "EASY_LEVEL_ATTEMPTS = 10\n",
    "HARD_LEVEL_ATTEMPTS = 5\n",
    "def set_difficulty(level_chosen):\n",
    "    if level_chosen == 'easy':\n",
    "        return EASY_LEVEL_ATTEMPTS\n",
    "    else:\n",
    "        return HARD_LEVEL_ATTEMPTS        \n",
    "def check_number(guessed_number,answer,attempts):\n",
    "    if guessed_number<answer :\n",
    "       print(\"your guess is too low \")\n",
    "       return attempts-1\n",
    "    else:\n",
    "        print(f\"your guess is right ... The answer is {answer}\")\n",
    "def game():\n",
    "    print(\"let me think of a number between 1 to 25.\")\n",
    "    answer = random.randint(1,25)\n",
    "    print(answer)\n",
    "    level = input(\"chosen level of difficulty ... Type 'easy' or 'hard':\")\n",
    "    attempts = set_difficulty(level)\n",
    "    guessed_number = 0\n",
    "    while guessed_number!= answer:\n",
    "        print(f\"you have {attempts} attempts remaining to guess the number:\")\n",
    "        \n",
    "        guessed_number = int(input(\"guess a number :\"))\n",
    "        \n",
    "        if attempts == 0:\n",
    "            print(\"you are out of the guesses... you lose!\")\n",
    "            return\n",
    "        elif guessed_number!= answer :\n",
    "            print(\"guess again\")\n",
    "        elif guessed_number == answer :\n",
    "            print(\"your guess is correct :\"+ the guessed_number is)\n",
    "game()\n",
    "            "
   ]
  },
  {
   "cell_type": "code",
   "execution_count": null,
   "id": "335856a0-ae91-43e8-a75f-252b933d149a",
   "metadata": {},
   "outputs": [],
   "source": []
  }
 ],
 "metadata": {
  "kernelspec": {
   "display_name": "Python 3 (ipykernel)",
   "language": "python",
   "name": "python3"
  },
  "language_info": {
   "codemirror_mode": {
    "name": "ipython",
    "version": 3
   },
   "file_extension": ".py",
   "mimetype": "text/x-python",
   "name": "python",
   "nbconvert_exporter": "python",
   "pygments_lexer": "ipython3",
   "version": "3.11.5"
  }
 },
 "nbformat": 4,
 "nbformat_minor": 5
}
